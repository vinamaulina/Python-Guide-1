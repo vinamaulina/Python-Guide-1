{
 "cells": [
  {
   "cell_type": "markdown",
   "id": "2affa6e7",
   "metadata": {},
   "source": [
    "#### Dictionary\n",
    "Dictionary pada Python adalah kumpulan pasangan kunci-nilai (pair of key-value) yang bersifat tidak berurutan. Dictionary dapat digunakan untuk menyimpan data kecil hingga besar. Untuk mengakses datanya, kita harus mengetahui kuncinya (key). Pada Python, dictionary didefinisikan dengan kurawal dan tambahan definisi berikut:\n",
    " - Setiap elemen pair key-value dipisahkan dengan koma (,).\n",
    " - Key dan Value dipisahkan dengan titik dua (:).\n",
    " - Key dan Value dapat berupa tipe variabel/obyek apapun."
   ]
  },
  {
   "cell_type": "code",
   "execution_count": 1,
   "id": "1119f939",
   "metadata": {},
   "outputs": [],
   "source": [
    "a = {\"nama\": \"Nam Do San\", \"usia\": 25}"
   ]
  },
  {
   "cell_type": "code",
   "execution_count": 3,
   "id": "25dcf6fb",
   "metadata": {},
   "outputs": [
    {
     "data": {
      "text/plain": [
       "dict"
      ]
     },
     "execution_count": 3,
     "metadata": {},
     "output_type": "execute_result"
    }
   ],
   "source": [
    "type(a)"
   ]
  },
  {
   "cell_type": "code",
   "execution_count": 4,
   "id": "9f1c2619",
   "metadata": {},
   "outputs": [
    {
     "data": {
      "text/plain": [
       "'Nam Do San'"
      ]
     },
     "execution_count": 4,
     "metadata": {},
     "output_type": "execute_result"
    }
   ],
   "source": [
    "a[\"nama\"]"
   ]
  },
  {
   "cell_type": "code",
   "execution_count": 5,
   "id": "4666aaa3",
   "metadata": {},
   "outputs": [
    {
     "ename": "KeyError",
     "evalue": "'Nam Do San'",
     "output_type": "error",
     "traceback": [
      "\u001b[1;31m---------------------------------------------------------------------------\u001b[0m",
      "\u001b[1;31mKeyError\u001b[0m                                  Traceback (most recent call last)",
      "Cell \u001b[1;32mIn[5], line 1\u001b[0m\n\u001b[1;32m----> 1\u001b[0m a[\u001b[38;5;124m\"\u001b[39m\u001b[38;5;124mNam Do San\u001b[39m\u001b[38;5;124m\"\u001b[39m]\n",
      "\u001b[1;31mKeyError\u001b[0m: 'Nam Do San'"
     ]
    }
   ],
   "source": [
    "a[\"Nam Do San\"]"
   ]
  },
  {
   "cell_type": "code",
   "execution_count": 6,
   "id": "3dbebb70",
   "metadata": {},
   "outputs": [
    {
     "data": {
      "text/plain": [
       "25"
      ]
     },
     "execution_count": 6,
     "metadata": {},
     "output_type": "execute_result"
    }
   ],
   "source": [
    "a[\"usia\"]"
   ]
  },
  {
   "cell_type": "markdown",
   "id": "5080faa9",
   "metadata": {},
   "source": [
    "Dictionary bukan termasuk dalam implementasi urutan (sequences), sehingga tidak bisa dipanggil dengan urutan indeks. Misalnya pada contoh berikut dicoba dwngan indeks 0, tetapi menghasilkan error (KeyError) karena tidak ada kunci (key) 0."
   ]
  },
  {
   "cell_type": "code",
   "execution_count": 7,
   "id": "2c7d96ec",
   "metadata": {},
   "outputs": [
    {
     "ename": "KeyError",
     "evalue": "0",
     "output_type": "error",
     "traceback": [
      "\u001b[1;31m---------------------------------------------------------------------------\u001b[0m",
      "\u001b[1;31mKeyError\u001b[0m                                  Traceback (most recent call last)",
      "Cell \u001b[1;32mIn[7], line 1\u001b[0m\n\u001b[1;32m----> 1\u001b[0m a[\u001b[38;5;241m0\u001b[39m]\n",
      "\u001b[1;31mKeyError\u001b[0m: 0"
     ]
    }
   ],
   "source": [
    "a[0]"
   ]
  },
  {
   "cell_type": "code",
   "execution_count": 8,
   "id": "ba1c5815",
   "metadata": {},
   "outputs": [],
   "source": [
    "b = {\"nama\": {\"nama_1\": \"zilla\",\n",
    "             \"nama_2\":\"ninys\"}}"
   ]
  },
  {
   "cell_type": "code",
   "execution_count": 12,
   "id": "6de159bf",
   "metadata": {},
   "outputs": [
    {
     "data": {
      "text/plain": [
       "'zilla'"
      ]
     },
     "execution_count": 12,
     "metadata": {},
     "output_type": "execute_result"
    }
   ],
   "source": [
    "b[\"nama\"][\"nama_1\"]"
   ]
  }
 ],
 "metadata": {
  "kernelspec": {
   "display_name": "Python 3 (ipykernel)",
   "language": "python",
   "name": "python3"
  },
  "language_info": {
   "codemirror_mode": {
    "name": "ipython",
    "version": 3
   },
   "file_extension": ".py",
   "mimetype": "text/x-python",
   "name": "python",
   "nbconvert_exporter": "python",
   "pygments_lexer": "ipython3",
   "version": "3.11.4"
  }
 },
 "nbformat": 4,
 "nbformat_minor": 5
}
