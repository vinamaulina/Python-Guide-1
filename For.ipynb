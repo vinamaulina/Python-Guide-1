{
 "cells": [
  {
   "cell_type": "markdown",
   "id": "f3746698",
   "metadata": {},
   "source": [
    "#### FOR\n",
    " - For adalah fungsi yang dapat melakukan perulangan pada setiap jenis variabel berupa kumpulan atau urutan\n",
    " - Variabel yang dimaksud bisa berupa list, string, ataupun range\n",
    " - Jika sebuah list atau urutan berisi expression, maka ia akan dievakuasi terlebih dahulu\n",
    " - Kemudian item pertama pada urutan/list akan siassign sebagai variabel iterating_var\n",
    " - Setelahnya, blok statement akan dieksekusi, berlanjut ke item berikutnya, berulang, hingga seluruh urutan habis"
   ]
  },
  {
   "cell_type": "code",
   "execution_count": 5,
   "id": "8d5799eb",
   "metadata": {},
   "outputs": [
    {
     "name": "stdout",
     "output_type": "stream",
     "text": [
      "huruf d\n",
      "huruf a\n",
      "huruf t\n",
      "huruf a\n"
     ]
    }
   ],
   "source": [
    "for i in 'data':\n",
    "    print(\"huruf {}\".format(i))"
   ]
  },
  {
   "cell_type": "code",
   "execution_count": 6,
   "id": "36b8ce97",
   "metadata": {},
   "outputs": [
    {
     "name": "stdout",
     "output_type": "stream",
     "text": [
      "d\n",
      "a\n",
      "t\n",
      "a\n"
     ]
    }
   ],
   "source": [
    "for a in 'data':\n",
    "    print(a)"
   ]
  },
  {
   "cell_type": "code",
   "execution_count": 7,
   "id": "85378909",
   "metadata": {
    "scrolled": false
   },
   "outputs": [
    {
     "name": "stdout",
     "output_type": "stream",
     "text": [
      "warna merah\n",
      "warna kuning\n",
      "warna hijau\n"
     ]
    }
   ],
   "source": [
    "color = ['merah', 'kuning', 'hijau']\n",
    "\n",
    "for i in color:\n",
    "    print(\"warna {}\".format(i))"
   ]
  },
  {
   "cell_type": "code",
   "execution_count": 15,
   "id": "36084b5a",
   "metadata": {
    "scrolled": true
   },
   "outputs": [
    {
     "name": "stdout",
     "output_type": "stream",
     "text": [
      "0\n",
      "1\n",
      "2\n"
     ]
    }
   ],
   "source": [
    "for i in range(3):\n",
    "    print(i)"
   ]
  },
  {
   "cell_type": "code",
   "execution_count": 16,
   "id": "8939db7c",
   "metadata": {},
   "outputs": [
    {
     "name": "stdout",
     "output_type": "stream",
     "text": [
      "1\n",
      "2\n",
      "3\n"
     ]
    }
   ],
   "source": [
    "for i in range(1,4):\n",
    "    print(i)"
   ]
  },
  {
   "cell_type": "markdown",
   "id": "5cd40fc5",
   "metadata": {},
   "source": [
    "#### For Bertingkat"
   ]
  },
  {
   "cell_type": "code",
   "execution_count": 29,
   "id": "b2ccf948",
   "metadata": {},
   "outputs": [
    {
     "name": "stdout",
     "output_type": "stream",
     "text": [
      "* * * \n",
      "* * \n",
      "* \n"
     ]
    }
   ],
   "source": [
    "for row in range(3):\n",
    "    for col in range(3):\n",
    "        if row == 0 and col <= 2:\n",
    "            print(\"*\", end = \" \")\n",
    "        elif row == 1 and col <= 1:\n",
    "            print(\"*\", end = \" \")\n",
    "        elif row == 2 and col == 0:\n",
    "            print(\"*\", end = \" \")\n",
    "    print()"
   ]
  },
  {
   "cell_type": "code",
   "execution_count": 8,
   "id": "43eab125",
   "metadata": {},
   "outputs": [
    {
     "name": "stdout",
     "output_type": "stream",
     "text": [
      "* * * * \n",
      "* * * \n",
      "* * \n",
      "* \n"
     ]
    }
   ],
   "source": [
    "for row in range(4):\n",
    "    for col in range(4):\n",
    "        if row == 0 and col <= 3:\n",
    "            print(\"*\", end = \" \")\n",
    "        elif row == 1 and col <= 2:\n",
    "            print(\"*\", end = \" \")\n",
    "        elif row == 2 and col <= 1:\n",
    "            print(\"*\", end = \" \")\n",
    "        elif row == 3 and col == 0:\n",
    "            print(\"*\", end = \" \")\n",
    "    print()"
   ]
  }
 ],
 "metadata": {
  "kernelspec": {
   "display_name": "Python 3 (ipykernel)",
   "language": "python",
   "name": "python3"
  },
  "language_info": {
   "codemirror_mode": {
    "name": "ipython",
    "version": 3
   },
   "file_extension": ".py",
   "mimetype": "text/x-python",
   "name": "python",
   "nbconvert_exporter": "python",
   "pygments_lexer": "ipython3",
   "version": "3.11.4"
  }
 },
 "nbformat": 4,
 "nbformat_minor": 5
}
