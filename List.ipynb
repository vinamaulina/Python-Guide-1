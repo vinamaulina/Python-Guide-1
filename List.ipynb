{
 "cells": [
  {
   "cell_type": "markdown",
   "id": "6eb2e0e4",
   "metadata": {},
   "source": [
    "#### List\n",
    "List adalah jenis kumpulan data terurut (ordered sequence) dan merupakan salah satu variabel yang sering digunakan pada Python. Serupa, namun tak sama dengan array pada bahasa pemrograman lainnya. Bedanya, elemen List pada Python tidak harus memiliki tipe data yang sama. Mendeklarasikan List cukup mudah dengan kurung siku dan elemen yang dipisahkan dengan koma."
   ]
  },
  {
   "cell_type": "code",
   "execution_count": 1,
   "id": "327cff59",
   "metadata": {},
   "outputs": [],
   "source": [
    "a = [5, 6.7, 'delapan']"
   ]
  },
  {
   "cell_type": "code",
   "execution_count": 2,
   "id": "d91584b0",
   "metadata": {},
   "outputs": [
    {
     "name": "stdout",
     "output_type": "stream",
     "text": [
      "[5, 6.7, 'delapan']\n"
     ]
    }
   ],
   "source": [
    "print(a)"
   ]
  },
  {
   "cell_type": "code",
   "execution_count": 3,
   "id": "d18dc28b",
   "metadata": {},
   "outputs": [
    {
     "data": {
      "text/plain": [
       "list"
      ]
     },
     "execution_count": 3,
     "metadata": {},
     "output_type": "execute_result"
    }
   ],
   "source": [
    "type(a)"
   ]
  },
  {
   "cell_type": "markdown",
   "id": "1cc0114a",
   "metadata": {},
   "source": [
    "Setiap data di dalamnya dapat diakses dengan indeks yang dimulai dari 0"
   ]
  },
  {
   "cell_type": "code",
   "execution_count": 4,
   "id": "6c5160a1",
   "metadata": {},
   "outputs": [],
   "source": [
    "a = [5, 6.7, 'delapan']"
   ]
  },
  {
   "cell_type": "code",
   "execution_count": 5,
   "id": "1777875a",
   "metadata": {},
   "outputs": [
    {
     "data": {
      "text/plain": [
       "5"
      ]
     },
     "execution_count": 5,
     "metadata": {},
     "output_type": "execute_result"
    }
   ],
   "source": [
    "a[0]"
   ]
  },
  {
   "cell_type": "code",
   "execution_count": 6,
   "id": "2e26c4cb",
   "metadata": {},
   "outputs": [
    {
     "data": {
      "text/plain": [
       "6.7"
      ]
     },
     "execution_count": 6,
     "metadata": {},
     "output_type": "execute_result"
    }
   ],
   "source": [
    "a[1]"
   ]
  },
  {
   "cell_type": "code",
   "execution_count": 7,
   "id": "be9ef175",
   "metadata": {},
   "outputs": [
    {
     "data": {
      "text/plain": [
       "'delapan'"
      ]
     },
     "execution_count": 7,
     "metadata": {},
     "output_type": "execute_result"
    }
   ],
   "source": [
    "a[2]"
   ]
  },
  {
   "cell_type": "code",
   "execution_count": 8,
   "id": "331a6d53",
   "metadata": {},
   "outputs": [
    {
     "data": {
      "text/plain": [
       "int"
      ]
     },
     "execution_count": 8,
     "metadata": {},
     "output_type": "execute_result"
    }
   ],
   "source": [
    "type(a[0])"
   ]
  },
  {
   "cell_type": "code",
   "execution_count": 9,
   "id": "dee00915",
   "metadata": {},
   "outputs": [
    {
     "data": {
      "text/plain": [
       "float"
      ]
     },
     "execution_count": 9,
     "metadata": {},
     "output_type": "execute_result"
    }
   ],
   "source": [
    "type(a[1])"
   ]
  },
  {
   "cell_type": "code",
   "execution_count": 10,
   "id": "b7e53d96",
   "metadata": {},
   "outputs": [
    {
     "data": {
      "text/plain": [
       "str"
      ]
     },
     "execution_count": 10,
     "metadata": {},
     "output_type": "execute_result"
    }
   ],
   "source": [
    "type(a[2])"
   ]
  },
  {
   "cell_type": "code",
   "execution_count": 11,
   "id": "27fb23a6",
   "metadata": {},
   "outputs": [],
   "source": [
    "a = [5, 6.7, 'delapan']"
   ]
  },
  {
   "cell_type": "code",
   "execution_count": 12,
   "id": "b4cc2b8d",
   "metadata": {},
   "outputs": [
    {
     "data": {
      "text/plain": [
       "'delapan'"
      ]
     },
     "execution_count": 12,
     "metadata": {},
     "output_type": "execute_result"
    }
   ],
   "source": [
    "a[-1]"
   ]
  },
  {
   "cell_type": "code",
   "execution_count": 13,
   "id": "92c75b67",
   "metadata": {},
   "outputs": [
    {
     "data": {
      "text/plain": [
       "6.7"
      ]
     },
     "execution_count": 13,
     "metadata": {},
     "output_type": "execute_result"
    }
   ],
   "source": [
    "a[-2]"
   ]
  },
  {
   "cell_type": "code",
   "execution_count": 14,
   "id": "b97f7c5c",
   "metadata": {},
   "outputs": [
    {
     "data": {
      "text/plain": [
       "5"
      ]
     },
     "execution_count": 14,
     "metadata": {},
     "output_type": "execute_result"
    }
   ],
   "source": [
    "a[-3]"
   ]
  },
  {
   "cell_type": "markdown",
   "id": "c4956ac8",
   "metadata": {},
   "source": [
    "#### Slicing"
   ]
  },
  {
   "cell_type": "code",
   "execution_count": 15,
   "id": "483d0935",
   "metadata": {},
   "outputs": [],
   "source": [
    "a = [5, 6.7, 'delapan']"
   ]
  },
  {
   "cell_type": "code",
   "execution_count": 16,
   "id": "c2056e97",
   "metadata": {},
   "outputs": [
    {
     "data": {
      "text/plain": [
       "[6.7, 'delapan']"
      ]
     },
     "execution_count": 16,
     "metadata": {},
     "output_type": "execute_result"
    }
   ],
   "source": [
    "a[1:3]"
   ]
  },
  {
   "cell_type": "code",
   "execution_count": 17,
   "id": "ef0809d9",
   "metadata": {},
   "outputs": [
    {
     "data": {
      "text/plain": [
       "[5, 6.7]"
      ]
     },
     "execution_count": 17,
     "metadata": {},
     "output_type": "execute_result"
    }
   ],
   "source": [
    "a[:2]"
   ]
  },
  {
   "cell_type": "code",
   "execution_count": 18,
   "id": "46c8fe7f",
   "metadata": {},
   "outputs": [
    {
     "data": {
      "text/plain": [
       "[5, 6.7, 'delapan']"
      ]
     },
     "execution_count": 18,
     "metadata": {},
     "output_type": "execute_result"
    }
   ],
   "source": [
    "a[-3:]"
   ]
  },
  {
   "cell_type": "code",
   "execution_count": 19,
   "id": "24e86665",
   "metadata": {},
   "outputs": [
    {
     "data": {
      "text/plain": [
       "[5]"
      ]
     },
     "execution_count": 19,
     "metadata": {},
     "output_type": "execute_result"
    }
   ],
   "source": [
    "a[0:1]"
   ]
  },
  {
   "cell_type": "code",
   "execution_count": 20,
   "id": "ec642142",
   "metadata": {},
   "outputs": [
    {
     "data": {
      "text/plain": [
       "[5, 6.7]"
      ]
     },
     "execution_count": 20,
     "metadata": {},
     "output_type": "execute_result"
    }
   ],
   "source": [
    "a[0:2]"
   ]
  },
  {
   "cell_type": "code",
   "execution_count": 21,
   "id": "05c9ac8a",
   "metadata": {},
   "outputs": [
    {
     "data": {
      "text/plain": [
       "[5, 6.7, 'delapan']"
      ]
     },
     "execution_count": 21,
     "metadata": {},
     "output_type": "execute_result"
    }
   ],
   "source": [
    "a[0:3]"
   ]
  },
  {
   "cell_type": "code",
   "execution_count": 22,
   "id": "5aba31d0",
   "metadata": {},
   "outputs": [
    {
     "data": {
      "text/plain": [
       "[5, 6.7, 'delapan']"
      ]
     },
     "execution_count": 22,
     "metadata": {},
     "output_type": "execute_result"
    }
   ],
   "source": [
    "a[0:4]"
   ]
  },
  {
   "cell_type": "code",
   "execution_count": 23,
   "id": "e0e321b8",
   "metadata": {},
   "outputs": [
    {
     "data": {
      "text/plain": [
       "['delapan']"
      ]
     },
     "execution_count": 23,
     "metadata": {},
     "output_type": "execute_result"
    }
   ],
   "source": [
    "a[-1:]"
   ]
  },
  {
   "cell_type": "code",
   "execution_count": 24,
   "id": "fe1d5915",
   "metadata": {},
   "outputs": [],
   "source": [
    "b = [6,7,8,9,10,11,12,13,14,15]"
   ]
  },
  {
   "cell_type": "code",
   "execution_count": 25,
   "id": "475b10e4",
   "metadata": {
    "scrolled": true
   },
   "outputs": [
    {
     "data": {
      "text/plain": [
       "[6, 7, 8, 9, 10, 11, 12, 13]"
      ]
     },
     "execution_count": 25,
     "metadata": {},
     "output_type": "execute_result"
    }
   ],
   "source": [
    "b[0:8]"
   ]
  },
  {
   "cell_type": "code",
   "execution_count": 26,
   "id": "ccd51968",
   "metadata": {
    "scrolled": false
   },
   "outputs": [
    {
     "data": {
      "text/plain": [
       "[6, 7, 8, 9]"
      ]
     },
     "execution_count": 26,
     "metadata": {},
     "output_type": "execute_result"
    }
   ],
   "source": [
    "b[:4]"
   ]
  },
  {
   "cell_type": "code",
   "execution_count": 27,
   "id": "3ad26288",
   "metadata": {
    "scrolled": false
   },
   "outputs": [
    {
     "data": {
      "text/plain": [
       "[13, 14, 15]"
      ]
     },
     "execution_count": 27,
     "metadata": {},
     "output_type": "execute_result"
    }
   ],
   "source": [
    "b[-3:]"
   ]
  },
  {
   "cell_type": "code",
   "execution_count": 28,
   "id": "17bab8cf",
   "metadata": {},
   "outputs": [
    {
     "data": {
      "text/plain": [
       "[6, 8, 10, 12]"
      ]
     },
     "execution_count": 28,
     "metadata": {},
     "output_type": "execute_result"
    }
   ],
   "source": [
    "b[0:8:2]"
   ]
  },
  {
   "cell_type": "code",
   "execution_count": 29,
   "id": "08c9d9cc",
   "metadata": {},
   "outputs": [
    {
     "data": {
      "text/plain": [
       "[6, 7, 8, 9, 10, 11, 12, 13]"
      ]
     },
     "execution_count": 29,
     "metadata": {},
     "output_type": "execute_result"
    }
   ],
   "source": [
    "b[0:8:1]"
   ]
  },
  {
   "cell_type": "code",
   "execution_count": 30,
   "id": "6b79c088",
   "metadata": {},
   "outputs": [
    {
     "data": {
      "text/plain": [
       "[6, 9, 12]"
      ]
     },
     "execution_count": 30,
     "metadata": {},
     "output_type": "execute_result"
    }
   ],
   "source": [
    "b[0:8:3]"
   ]
  },
  {
   "cell_type": "code",
   "execution_count": 31,
   "id": "2f56c40f",
   "metadata": {},
   "outputs": [],
   "source": [
    "b = [6,7,8,9,10,11,12,13,14,15]"
   ]
  },
  {
   "cell_type": "code",
   "execution_count": 32,
   "id": "fad1df8d",
   "metadata": {},
   "outputs": [
    {
     "name": "stdout",
     "output_type": "stream",
     "text": [
      "[6, 7, 8, 9, 10, 11, 12, 13, 14, 15]\n"
     ]
    }
   ],
   "source": [
    "print(b)"
   ]
  },
  {
   "cell_type": "code",
   "execution_count": 33,
   "id": "aa944e78",
   "metadata": {},
   "outputs": [
    {
     "data": {
      "text/plain": [
       "10"
      ]
     },
     "execution_count": 33,
     "metadata": {},
     "output_type": "execute_result"
    }
   ],
   "source": [
    "len(b)\n",
    "\n",
    "#len menghitung berapa banyak datanya"
   ]
  },
  {
   "cell_type": "code",
   "execution_count": 34,
   "id": "be743ea5",
   "metadata": {},
   "outputs": [
    {
     "data": {
      "text/plain": [
       "15"
      ]
     },
     "execution_count": 34,
     "metadata": {},
     "output_type": "execute_result"
    }
   ],
   "source": [
    "b[9]"
   ]
  },
  {
   "cell_type": "code",
   "execution_count": 35,
   "id": "8cb822e6",
   "metadata": {},
   "outputs": [],
   "source": [
    "b[0] = 1"
   ]
  },
  {
   "cell_type": "code",
   "execution_count": 36,
   "id": "f0bc1c28",
   "metadata": {},
   "outputs": [
    {
     "name": "stdout",
     "output_type": "stream",
     "text": [
      "[1, 7, 8, 9, 10, 11, 12, 13, 14, 15]\n"
     ]
    }
   ],
   "source": [
    "print(b)"
   ]
  },
  {
   "cell_type": "code",
   "execution_count": 37,
   "id": "40deb7ed",
   "metadata": {},
   "outputs": [],
   "source": [
    "b.append(16)\n",
    "\n",
    "#append untuk menambah elemen ke dalam list"
   ]
  },
  {
   "cell_type": "code",
   "execution_count": 38,
   "id": "d8ba3ee5",
   "metadata": {},
   "outputs": [
    {
     "name": "stdout",
     "output_type": "stream",
     "text": [
      "[1, 7, 8, 9, 10, 11, 12, 13, 14, 15, 16]\n"
     ]
    }
   ],
   "source": [
    "print(b)"
   ]
  },
  {
   "cell_type": "code",
   "execution_count": 39,
   "id": "54cbfeb8",
   "metadata": {},
   "outputs": [
    {
     "data": {
      "text/plain": [
       "11"
      ]
     },
     "execution_count": 39,
     "metadata": {},
     "output_type": "execute_result"
    }
   ],
   "source": [
    "len(b)"
   ]
  },
  {
   "cell_type": "code",
   "execution_count": 40,
   "id": "f9040267",
   "metadata": {},
   "outputs": [],
   "source": [
    "del b[0]\n",
    "\n",
    "#del untuk menghapus elemen pada list"
   ]
  },
  {
   "cell_type": "code",
   "execution_count": 41,
   "id": "228cde09",
   "metadata": {
    "scrolled": true
   },
   "outputs": [
    {
     "name": "stdout",
     "output_type": "stream",
     "text": [
      "[7, 8, 9, 10, 11, 12, 13, 14, 15, 16]\n"
     ]
    }
   ],
   "source": [
    "print(b)"
   ]
  },
  {
   "cell_type": "code",
   "execution_count": 42,
   "id": "ac2fda6e",
   "metadata": {},
   "outputs": [],
   "source": [
    "del b[0]"
   ]
  },
  {
   "cell_type": "code",
   "execution_count": 43,
   "id": "7c60c51f",
   "metadata": {},
   "outputs": [
    {
     "name": "stdout",
     "output_type": "stream",
     "text": [
      "[8, 9, 10, 11, 12, 13, 14, 15, 16]\n"
     ]
    }
   ],
   "source": [
    "print(b)"
   ]
  },
  {
   "cell_type": "markdown",
   "id": "82a50fd6",
   "metadata": {},
   "source": [
    "#### Selasa, 19/09/2023\n",
    "Task 1 : Membuat list berisi 5 elemen dengan 4 tipe data"
   ]
  },
  {
   "cell_type": "code",
   "execution_count": 44,
   "id": "947d4393",
   "metadata": {},
   "outputs": [],
   "source": [
    "x = [2, 6.8, 1>3, \"MyEduSolve\", 2+1j]"
   ]
  },
  {
   "cell_type": "code",
   "execution_count": 45,
   "id": "88c84239",
   "metadata": {},
   "outputs": [
    {
     "data": {
      "text/plain": [
       "2"
      ]
     },
     "execution_count": 45,
     "metadata": {},
     "output_type": "execute_result"
    }
   ],
   "source": [
    "x[0]"
   ]
  },
  {
   "cell_type": "code",
   "execution_count": 46,
   "id": "0e1f7fd6",
   "metadata": {},
   "outputs": [
    {
     "data": {
      "text/plain": [
       "6.8"
      ]
     },
     "execution_count": 46,
     "metadata": {},
     "output_type": "execute_result"
    }
   ],
   "source": [
    "x[1]"
   ]
  },
  {
   "cell_type": "code",
   "execution_count": 47,
   "id": "6ffd71e6",
   "metadata": {},
   "outputs": [
    {
     "data": {
      "text/plain": [
       "False"
      ]
     },
     "execution_count": 47,
     "metadata": {},
     "output_type": "execute_result"
    }
   ],
   "source": [
    "x[2]"
   ]
  },
  {
   "cell_type": "code",
   "execution_count": 48,
   "id": "8cb0348a",
   "metadata": {},
   "outputs": [
    {
     "data": {
      "text/plain": [
       "'MyEduSolve'"
      ]
     },
     "execution_count": 48,
     "metadata": {},
     "output_type": "execute_result"
    }
   ],
   "source": [
    "x[3]"
   ]
  },
  {
   "cell_type": "code",
   "execution_count": 49,
   "id": "9d49f124",
   "metadata": {},
   "outputs": [
    {
     "data": {
      "text/plain": [
       "(2+1j)"
      ]
     },
     "execution_count": 49,
     "metadata": {},
     "output_type": "execute_result"
    }
   ],
   "source": [
    "x[4]"
   ]
  },
  {
   "cell_type": "code",
   "execution_count": 50,
   "id": "b736a081",
   "metadata": {},
   "outputs": [
    {
     "data": {
      "text/plain": [
       "int"
      ]
     },
     "execution_count": 50,
     "metadata": {},
     "output_type": "execute_result"
    }
   ],
   "source": [
    "type(x[0])"
   ]
  },
  {
   "cell_type": "code",
   "execution_count": 51,
   "id": "99104409",
   "metadata": {},
   "outputs": [
    {
     "data": {
      "text/plain": [
       "float"
      ]
     },
     "execution_count": 51,
     "metadata": {},
     "output_type": "execute_result"
    }
   ],
   "source": [
    "type(x[1])"
   ]
  },
  {
   "cell_type": "code",
   "execution_count": 52,
   "id": "6c52069c",
   "metadata": {},
   "outputs": [
    {
     "data": {
      "text/plain": [
       "bool"
      ]
     },
     "execution_count": 52,
     "metadata": {},
     "output_type": "execute_result"
    }
   ],
   "source": [
    "type(x[2])"
   ]
  },
  {
   "cell_type": "code",
   "execution_count": 53,
   "id": "8b835b4e",
   "metadata": {},
   "outputs": [
    {
     "data": {
      "text/plain": [
       "str"
      ]
     },
     "execution_count": 53,
     "metadata": {},
     "output_type": "execute_result"
    }
   ],
   "source": [
    "type(x[3])"
   ]
  },
  {
   "cell_type": "code",
   "execution_count": 54,
   "id": "e4d10f48",
   "metadata": {},
   "outputs": [
    {
     "data": {
      "text/plain": [
       "complex"
      ]
     },
     "execution_count": 54,
     "metadata": {},
     "output_type": "execute_result"
    }
   ],
   "source": [
    "type(x[4])"
   ]
  },
  {
   "cell_type": "markdown",
   "id": "162929ab",
   "metadata": {},
   "source": [
    "Task 2 : panggil index nya menggunakan negatif index"
   ]
  },
  {
   "cell_type": "code",
   "execution_count": 55,
   "id": "1f88638d",
   "metadata": {},
   "outputs": [],
   "source": [
    "x = [2, 6.8, 1>3, \"MyEduSolve\", 2+1j]"
   ]
  },
  {
   "cell_type": "code",
   "execution_count": 56,
   "id": "c15f13cc",
   "metadata": {},
   "outputs": [
    {
     "data": {
      "text/plain": [
       "(2+1j)"
      ]
     },
     "execution_count": 56,
     "metadata": {},
     "output_type": "execute_result"
    }
   ],
   "source": [
    "x[-1]"
   ]
  },
  {
   "cell_type": "code",
   "execution_count": 57,
   "id": "490dbcf7",
   "metadata": {},
   "outputs": [
    {
     "data": {
      "text/plain": [
       "'MyEduSolve'"
      ]
     },
     "execution_count": 57,
     "metadata": {},
     "output_type": "execute_result"
    }
   ],
   "source": [
    "x[-2]"
   ]
  },
  {
   "cell_type": "code",
   "execution_count": 58,
   "id": "3b0de26c",
   "metadata": {},
   "outputs": [
    {
     "data": {
      "text/plain": [
       "False"
      ]
     },
     "execution_count": 58,
     "metadata": {},
     "output_type": "execute_result"
    }
   ],
   "source": [
    "x[-3]"
   ]
  },
  {
   "cell_type": "code",
   "execution_count": 59,
   "id": "366d3ed0",
   "metadata": {},
   "outputs": [
    {
     "data": {
      "text/plain": [
       "6.8"
      ]
     },
     "execution_count": 59,
     "metadata": {},
     "output_type": "execute_result"
    }
   ],
   "source": [
    "x[-4]"
   ]
  },
  {
   "cell_type": "code",
   "execution_count": 60,
   "id": "ae3fd480",
   "metadata": {},
   "outputs": [
    {
     "data": {
      "text/plain": [
       "2"
      ]
     },
     "execution_count": 60,
     "metadata": {},
     "output_type": "execute_result"
    }
   ],
   "source": [
    "x[-5]"
   ]
  },
  {
   "cell_type": "markdown",
   "id": "32e4731a",
   "metadata": {},
   "source": [
    "Task 3 : panggil slicing (3 contoh)"
   ]
  },
  {
   "cell_type": "code",
   "execution_count": 61,
   "id": "52f30177",
   "metadata": {},
   "outputs": [],
   "source": [
    "x = [2, 6.8, 1>3, \"MyEduSolve\", 2+1j]"
   ]
  },
  {
   "cell_type": "code",
   "execution_count": 62,
   "id": "b2dbce97",
   "metadata": {},
   "outputs": [
    {
     "data": {
      "text/plain": [
       "[2, 6.8]"
      ]
     },
     "execution_count": 62,
     "metadata": {},
     "output_type": "execute_result"
    }
   ],
   "source": [
    "x[0:2]"
   ]
  },
  {
   "cell_type": "code",
   "execution_count": 63,
   "id": "1757c92c",
   "metadata": {},
   "outputs": [
    {
     "data": {
      "text/plain": [
       "['MyEduSolve', (2+1j)]"
      ]
     },
     "execution_count": 63,
     "metadata": {},
     "output_type": "execute_result"
    }
   ],
   "source": [
    "x[3:5]"
   ]
  },
  {
   "cell_type": "code",
   "execution_count": 64,
   "id": "e4947da7",
   "metadata": {},
   "outputs": [
    {
     "data": {
      "text/plain": [
       "[6.8, False, 'MyEduSolve']"
      ]
     },
     "execution_count": 64,
     "metadata": {},
     "output_type": "execute_result"
    }
   ],
   "source": [
    "x[1:4]"
   ]
  },
  {
   "cell_type": "markdown",
   "id": "95d781bb",
   "metadata": {},
   "source": [
    "Task 4: list (minimal 10 elemen), slicing diantara, slicing kosong depan, slicing kosong belakang"
   ]
  },
  {
   "cell_type": "code",
   "execution_count": 65,
   "id": "5c7294f8",
   "metadata": {},
   "outputs": [],
   "source": [
    "y = [23, 10.6, 5>3, \"Python\", 28, 1+3j, False, \"Data Analyst\", 1.2, 19]"
   ]
  },
  {
   "cell_type": "code",
   "execution_count": 66,
   "id": "5c4bedf1",
   "metadata": {},
   "outputs": [
    {
     "data": {
      "text/plain": [
       "['Python', 28, (1+3j), False, 'Data Analyst']"
      ]
     },
     "execution_count": 66,
     "metadata": {},
     "output_type": "execute_result"
    }
   ],
   "source": [
    "y[3:8]"
   ]
  },
  {
   "cell_type": "code",
   "execution_count": 67,
   "id": "57eacc83",
   "metadata": {},
   "outputs": [
    {
     "data": {
      "text/plain": [
       "[23, 10.6, True, 'Python', 28]"
      ]
     },
     "execution_count": 67,
     "metadata": {},
     "output_type": "execute_result"
    }
   ],
   "source": [
    "y[:5]"
   ]
  },
  {
   "cell_type": "code",
   "execution_count": 68,
   "id": "40e76946",
   "metadata": {
    "scrolled": false
   },
   "outputs": [
    {
     "data": {
      "text/plain": [
       "[False, 'Data Analyst', 1.2, 19]"
      ]
     },
     "execution_count": 68,
     "metadata": {},
     "output_type": "execute_result"
    }
   ],
   "source": [
    "y[-4:]"
   ]
  },
  {
   "cell_type": "markdown",
   "id": "fc7e13da",
   "metadata": {},
   "source": [
    "#### Rabu, 20/09/2023\n",
    "Task 1"
   ]
  },
  {
   "cell_type": "code",
   "execution_count": 69,
   "id": "8e2bd0ab",
   "metadata": {},
   "outputs": [],
   "source": [
    "z = [10,11,12,13,14,15,16,17,18,19,20,21,22,23,24]"
   ]
  },
  {
   "cell_type": "code",
   "execution_count": 70,
   "id": "e6159724",
   "metadata": {},
   "outputs": [
    {
     "name": "stdout",
     "output_type": "stream",
     "text": [
      "[10, 11, 12, 13, 14, 15, 16, 17, 18, 19, 20, 21, 22, 23, 24]\n"
     ]
    }
   ],
   "source": [
    "print(z)"
   ]
  },
  {
   "cell_type": "code",
   "execution_count": 71,
   "id": "dac83e9b",
   "metadata": {},
   "outputs": [
    {
     "data": {
      "text/plain": [
       "15"
      ]
     },
     "execution_count": 71,
     "metadata": {},
     "output_type": "execute_result"
    }
   ],
   "source": [
    "len(z)"
   ]
  },
  {
   "cell_type": "code",
   "execution_count": 72,
   "id": "58081ab9",
   "metadata": {},
   "outputs": [],
   "source": [
    "z[0] = 9"
   ]
  },
  {
   "cell_type": "code",
   "execution_count": 73,
   "id": "af3d1c0d",
   "metadata": {},
   "outputs": [
    {
     "name": "stdout",
     "output_type": "stream",
     "text": [
      "[9, 11, 12, 13, 14, 15, 16, 17, 18, 19, 20, 21, 22, 23, 24]\n"
     ]
    }
   ],
   "source": [
    "print(z)"
   ]
  },
  {
   "cell_type": "code",
   "execution_count": 74,
   "id": "615e0f04",
   "metadata": {},
   "outputs": [],
   "source": [
    "del z[0]"
   ]
  },
  {
   "cell_type": "code",
   "execution_count": 75,
   "id": "c0b09f03",
   "metadata": {},
   "outputs": [
    {
     "data": {
      "text/plain": [
       "14"
      ]
     },
     "execution_count": 75,
     "metadata": {},
     "output_type": "execute_result"
    }
   ],
   "source": [
    "len(z)"
   ]
  },
  {
   "cell_type": "code",
   "execution_count": 76,
   "id": "c0b4a07a",
   "metadata": {},
   "outputs": [],
   "source": [
    "z.append(26)"
   ]
  },
  {
   "cell_type": "code",
   "execution_count": 77,
   "id": "98a58537",
   "metadata": {},
   "outputs": [
    {
     "data": {
      "text/plain": [
       "15"
      ]
     },
     "execution_count": 77,
     "metadata": {},
     "output_type": "execute_result"
    }
   ],
   "source": [
    "len(z)"
   ]
  },
  {
   "cell_type": "code",
   "execution_count": 78,
   "id": "adc49d78",
   "metadata": {},
   "outputs": [
    {
     "name": "stdout",
     "output_type": "stream",
     "text": [
      "[11, 12, 13, 14, 15, 16, 17, 18, 19, 20, 21, 22, 23, 24, 26]\n"
     ]
    }
   ],
   "source": [
    "print(z)"
   ]
  }
 ],
 "metadata": {
  "kernelspec": {
   "display_name": "Python 3 (ipykernel)",
   "language": "python",
   "name": "python3"
  },
  "language_info": {
   "codemirror_mode": {
    "name": "ipython",
    "version": 3
   },
   "file_extension": ".py",
   "mimetype": "text/x-python",
   "name": "python",
   "nbconvert_exporter": "python",
   "pygments_lexer": "ipython3",
   "version": "3.11.4"
  }
 },
 "nbformat": 4,
 "nbformat_minor": 5
}
