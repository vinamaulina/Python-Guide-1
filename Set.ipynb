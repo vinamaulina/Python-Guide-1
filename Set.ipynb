{
 "cells": [
  {
   "cell_type": "markdown",
   "id": "eb14543d",
   "metadata": {},
   "source": [
    "#### SET\n",
    "Set adalah kumpulan item bersifat unik dan tanpa urutan (unordered collection). Didefinisikan dengan kurawal dan elemennya dipisahkan dengan koma. Pada Set kita dapat melakukan union dan intersection, sekaligus otomatis melakukan penghapusan sata duplikat."
   ]
  },
  {
   "cell_type": "code",
   "execution_count": 1,
   "id": "5a6a8834",
   "metadata": {},
   "outputs": [],
   "source": [
    "a = {3,3,3,4,4,4,4,5,5,5,5,5}"
   ]
  },
  {
   "cell_type": "code",
   "execution_count": 2,
   "id": "fab3b84f",
   "metadata": {},
   "outputs": [
    {
     "name": "stdout",
     "output_type": "stream",
     "text": [
      "{3, 4, 5}\n"
     ]
    }
   ],
   "source": [
    "print(a)"
   ]
  },
  {
   "cell_type": "markdown",
   "id": "ab7ccae1",
   "metadata": {},
   "source": [
    "Karena Set bersifat unordered, maka kita tidak bisa mengambil sebagian data atau elemen datanya menggunakan proses slicing."
   ]
  },
  {
   "cell_type": "code",
   "execution_count": 3,
   "id": "ae35d134",
   "metadata": {},
   "outputs": [
    {
     "ename": "TypeError",
     "evalue": "'set' object is not subscriptable",
     "output_type": "error",
     "traceback": [
      "\u001b[1;31m---------------------------------------------------------------------------\u001b[0m",
      "\u001b[1;31mTypeError\u001b[0m                                 Traceback (most recent call last)",
      "Cell \u001b[1;32mIn[3], line 1\u001b[0m\n\u001b[1;32m----> 1\u001b[0m \u001b[38;5;28mprint\u001b[39m(a[\u001b[38;5;241m1\u001b[39m])\n",
      "\u001b[1;31mTypeError\u001b[0m: 'set' object is not subscriptable"
     ]
    }
   ],
   "source": [
    "print(a[1])"
   ]
  },
  {
   "cell_type": "markdown",
   "id": "6ae0c701",
   "metadata": {},
   "source": [
    "#### Union\n",
    "Menggabung value dari 2 variabel dan menghapus duplikat"
   ]
  },
  {
   "cell_type": "code",
   "execution_count": 4,
   "id": "053f97d2",
   "metadata": {},
   "outputs": [],
   "source": [
    "a = {1,2,3}"
   ]
  },
  {
   "cell_type": "code",
   "execution_count": 5,
   "id": "3db5a342",
   "metadata": {},
   "outputs": [
    {
     "name": "stdout",
     "output_type": "stream",
     "text": [
      "{1, 2, 3}\n"
     ]
    }
   ],
   "source": [
    "print(a)"
   ]
  },
  {
   "cell_type": "code",
   "execution_count": 6,
   "id": "fa371a73",
   "metadata": {},
   "outputs": [],
   "source": [
    "b = {2,3,4,5}"
   ]
  },
  {
   "cell_type": "code",
   "execution_count": 7,
   "id": "5a3a148a",
   "metadata": {},
   "outputs": [
    {
     "name": "stdout",
     "output_type": "stream",
     "text": [
      "{2, 3, 4, 5}\n"
     ]
    }
   ],
   "source": [
    "print(b)"
   ]
  },
  {
   "cell_type": "code",
   "execution_count": 8,
   "id": "89dec04a",
   "metadata": {},
   "outputs": [
    {
     "data": {
      "text/plain": [
       "{1, 2, 3, 4, 5}"
      ]
     },
     "execution_count": 8,
     "metadata": {},
     "output_type": "execute_result"
    }
   ],
   "source": [
    "a.union(b)"
   ]
  },
  {
   "cell_type": "markdown",
   "id": "daeeb89d",
   "metadata": {},
   "source": [
    "#### Intersection\n",
    "Mencari irisan dari 2 variabel"
   ]
  },
  {
   "cell_type": "code",
   "execution_count": 9,
   "id": "2c9bb392",
   "metadata": {},
   "outputs": [
    {
     "data": {
      "text/plain": [
       "{2, 3}"
      ]
     },
     "execution_count": 9,
     "metadata": {},
     "output_type": "execute_result"
    }
   ],
   "source": [
    "a.intersection(b)"
   ]
  },
  {
   "cell_type": "markdown",
   "id": "dc386791",
   "metadata": {},
   "source": [
    "#### Task 1\n",
    "Bikin 2 set (masing-masing min 5 elemen), union, intersection"
   ]
  },
  {
   "cell_type": "code",
   "execution_count": 10,
   "id": "906dff38",
   "metadata": {},
   "outputs": [],
   "source": [
    "x = {10,11,12,13,14,15}"
   ]
  },
  {
   "cell_type": "code",
   "execution_count": 11,
   "id": "51a7d974",
   "metadata": {},
   "outputs": [
    {
     "name": "stdout",
     "output_type": "stream",
     "text": [
      "{10, 11, 12, 13, 14, 15}\n"
     ]
    }
   ],
   "source": [
    "print(x)"
   ]
  },
  {
   "cell_type": "code",
   "execution_count": 12,
   "id": "9d438428",
   "metadata": {},
   "outputs": [],
   "source": [
    "y = {13,14,15,16,17,18}"
   ]
  },
  {
   "cell_type": "code",
   "execution_count": 13,
   "id": "d6b4bc5c",
   "metadata": {},
   "outputs": [
    {
     "name": "stdout",
     "output_type": "stream",
     "text": [
      "{16, 17, 18, 13, 14, 15}\n"
     ]
    }
   ],
   "source": [
    "print(y)"
   ]
  },
  {
   "cell_type": "code",
   "execution_count": 14,
   "id": "18e08a94",
   "metadata": {},
   "outputs": [
    {
     "data": {
      "text/plain": [
       "{10, 11, 12, 13, 14, 15, 16, 17, 18}"
      ]
     },
     "execution_count": 14,
     "metadata": {},
     "output_type": "execute_result"
    }
   ],
   "source": [
    "x.union(y)"
   ]
  },
  {
   "cell_type": "code",
   "execution_count": 15,
   "id": "f347c3eb",
   "metadata": {},
   "outputs": [
    {
     "data": {
      "text/plain": [
       "{13, 14, 15}"
      ]
     },
     "execution_count": 15,
     "metadata": {},
     "output_type": "execute_result"
    }
   ],
   "source": [
    "x.intersection(y)"
   ]
  }
 ],
 "metadata": {
  "kernelspec": {
   "display_name": "Python 3 (ipykernel)",
   "language": "python",
   "name": "python3"
  },
  "language_info": {
   "codemirror_mode": {
    "name": "ipython",
    "version": 3
   },
   "file_extension": ".py",
   "mimetype": "text/x-python",
   "name": "python",
   "nbconvert_exporter": "python",
   "pygments_lexer": "ipython3",
   "version": "3.11.4"
  }
 },
 "nbformat": 4,
 "nbformat_minor": 5
}
