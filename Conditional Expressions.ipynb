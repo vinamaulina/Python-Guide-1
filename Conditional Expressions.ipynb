{
 "cells": [
  {
   "cell_type": "markdown",
   "id": "08e75a7c",
   "metadata": {},
   "source": [
    "#### IF\n",
    "- Di Python, expression diletakkan setelah if, dan keputusan ditentukan berdasarkan nilai kebenaran dari expression tersebut.\n",
    " - Jika expression dievaluasi sebagai True, maka blok statement di dalam if statement akan dieksekusi.\n",
    " - Sesuai konvensi, blok ini memiliki indentasi masuk setelah tanda titik dua (:)\n",
    " - Jila expression dievaluasi sebagai False, maka blok selanjutnya (setelah statement IF) yang akan dijalankan"
   ]
  },
  {
   "cell_type": "code",
   "execution_count": 1,
   "id": "6b5c010c",
   "metadata": {},
   "outputs": [
    {
     "name": "stdout",
     "output_type": "stream",
     "text": [
      "Bneran namaku Ko Yu Rim\n"
     ]
    }
   ],
   "source": [
    "namaku = \"Ko Yu Rim\"\n",
    "\n",
    "if namaku:\n",
    "    print(\"Bneran namaku {}\".format(namaku))"
   ]
  },
  {
   "cell_type": "code",
   "execution_count": 2,
   "id": "27b8d1a6",
   "metadata": {},
   "outputs": [
    {
     "name": "stdout",
     "output_type": "stream",
     "text": [
      "Nama saya adalah Ko Yu Rim\n"
     ]
    }
   ],
   "source": [
    "namaku = \"Ko Yu Rim\"\n",
    "\n",
    "if namaku:\n",
    "    print(\"Nama saya adalah {}\".format(namaku))"
   ]
  },
  {
   "cell_type": "code",
   "execution_count": 3,
   "id": "24aeb265",
   "metadata": {},
   "outputs": [],
   "source": [
    "usiaku = \"24\""
   ]
  },
  {
   "cell_type": "code",
   "execution_count": 4,
   "id": "842fd3bf",
   "metadata": {},
   "outputs": [
    {
     "name": "stdout",
     "output_type": "stream",
     "text": [
      "Umur saya adalah 24\n"
     ]
    }
   ],
   "source": [
    "if usiaku:\n",
    "    print(\"Umur saya adalah {}\".format(usiaku))"
   ]
  },
  {
   "cell_type": "markdown",
   "id": "624e8b6f",
   "metadata": {},
   "source": [
    "#### ELSE\n",
    "\n",
    " - Statement Else dapat dikombinasikan dengan IF statement, sebagai jalan keluar saat kondisi/hasil evaluasi bernilai False.\n",
    " - Else bersifat opsional dan tunggal."
   ]
  },
  {
   "cell_type": "code",
   "execution_count": 5,
   "id": "2023aec1",
   "metadata": {},
   "outputs": [
    {
     "name": "stdout",
     "output_type": "stream",
     "text": [
      "Usia Anda: 21\n"
     ]
    }
   ],
   "source": [
    "usia = (input(\"Usia Anda: \"))"
   ]
  },
  {
   "cell_type": "code",
   "execution_count": 6,
   "id": "685c8688",
   "metadata": {},
   "outputs": [
    {
     "name": "stdout",
     "output_type": "stream",
     "text": [
      "18\n"
     ]
    },
    {
     "data": {
      "text/plain": [
       "18"
      ]
     },
     "execution_count": 6,
     "metadata": {},
     "output_type": "execute_result"
    }
   ],
   "source": [
    "int(input())"
   ]
  },
  {
   "cell_type": "code",
   "execution_count": 7,
   "id": "dbaf6bc5",
   "metadata": {},
   "outputs": [
    {
     "name": "stdout",
     "output_type": "stream",
     "text": [
      "Usia Anda: 20\n",
      "Sudah punya KTP\n"
     ]
    }
   ],
   "source": [
    "usia = int(input(\"Usia Anda: \"))\n",
    "\n",
    "if usia >= 17:\n",
    "    print(\"Sudah punya KTP\")\n",
    "else:\n",
    "    print(\"Belum punya KTP\")"
   ]
  },
  {
   "cell_type": "markdown",
   "id": "5a3f8c96",
   "metadata": {},
   "source": [
    "#### ELIF\n",
    " - Elif adalah kependekan dari else if\n",
    " - Elif merupakan alternatif untuk if bertingkat\n",
    " - Sebuah IF Statement dapat diikuti satu atau lebih statement elif (opsional & tidak dibatasi)"
   ]
  },
  {
   "cell_type": "code",
   "execution_count": 8,
   "id": "6d339d88",
   "metadata": {},
   "outputs": [
    {
     "name": "stdout",
     "output_type": "stream",
     "text": [
      "Berapa nilai Anda: 40\n",
      "Anda nilai C\n"
     ]
    }
   ],
   "source": [
    "nilai = int(input(\"Berapa nilai Anda: \"))\n",
    "\n",
    "if nilai >= 80:\n",
    "    print(\"Anda mendapat nilai A\")\n",
    "elif nilai >= 60:\n",
    "    print(\"Anda mendapat nilai B\")\n",
    "else:\n",
    "    print(\"Anda nilai C\")"
   ]
  },
  {
   "cell_type": "markdown",
   "id": "71d16f15",
   "metadata": {},
   "source": [
    "#### Task 1 \n",
    "\n",
    " - Bikin logic BMI pakai python"
   ]
  },
  {
   "cell_type": "code",
   "execution_count": 31,
   "id": "478b1cb8",
   "metadata": {},
   "outputs": [
    {
     "name": "stdout",
     "output_type": "stream",
     "text": [
      "Berapa nilai BMI Anda: 20\n",
      "Normal\n"
     ]
    }
   ],
   "source": [
    "nilai_bmi = float(input(\"Berapa nilai BMI Anda: \"))\n",
    "\n",
    "if nilai_bmi < 17:\n",
    "    print(\"Sangat kurus\")\n",
    "elif nilai_bmi >= 17 and nilai_bmi < 18.5:\n",
    "    print(\"Kurus\")\n",
    "elif nilai_bmi >=18.5 and nilai_bmi < 25:\n",
    "    print(\"Normal\")\n",
    "elif nilai_bmi >= 25 and nilai_bmi <= 27:\n",
    "    print(\"Gemuk (overwight)\")\n",
    "else:\n",
    "    print(\"Gemuk (obesitas)\")"
   ]
  },
  {
   "cell_type": "code",
   "execution_count": null,
   "id": "f0f0cd7e",
   "metadata": {},
   "outputs": [],
   "source": []
  }
 ],
 "metadata": {
  "kernelspec": {
   "display_name": "Python 3 (ipykernel)",
   "language": "python",
   "name": "python3"
  },
  "language_info": {
   "codemirror_mode": {
    "name": "ipython",
    "version": 3
   },
   "file_extension": ".py",
   "mimetype": "text/x-python",
   "name": "python",
   "nbconvert_exporter": "python",
   "pygments_lexer": "ipython3",
   "version": "3.11.4"
  }
 },
 "nbformat": 4,
 "nbformat_minor": 5
}
