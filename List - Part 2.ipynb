{
 "cells": [
  {
   "cell_type": "code",
   "execution_count": 1,
   "id": "abb2142b",
   "metadata": {},
   "outputs": [],
   "source": [
    "arr = [1,2,3]"
   ]
  },
  {
   "cell_type": "markdown",
   "id": "28301c5c",
   "metadata": {},
   "source": [
    "#### append(x)\n",
    "\n",
    "Adds a single element x to the end of the list"
   ]
  },
  {
   "cell_type": "code",
   "execution_count": 2,
   "id": "d0136102",
   "metadata": {},
   "outputs": [],
   "source": [
    "arr.append(9)"
   ]
  },
  {
   "cell_type": "code",
   "execution_count": 3,
   "id": "5c3cfb8e",
   "metadata": {},
   "outputs": [
    {
     "name": "stdout",
     "output_type": "stream",
     "text": [
      "[1, 2, 3, 9]\n"
     ]
    }
   ],
   "source": [
    "print(arr)"
   ]
  },
  {
   "cell_type": "markdown",
   "id": "1831f8de",
   "metadata": {},
   "source": [
    "#### extend(L)\n",
    "\n",
    "Merges another list L to the end"
   ]
  },
  {
   "cell_type": "code",
   "execution_count": 4,
   "id": "093fbebb",
   "metadata": {},
   "outputs": [],
   "source": [
    "arr.extend([10,11])"
   ]
  },
  {
   "cell_type": "code",
   "execution_count": 5,
   "id": "4e8eeee7",
   "metadata": {},
   "outputs": [
    {
     "name": "stdout",
     "output_type": "stream",
     "text": [
      "[1, 2, 3, 9, 10, 11]\n"
     ]
    }
   ],
   "source": [
    "print(arr)"
   ]
  },
  {
   "cell_type": "markdown",
   "id": "7667fff4",
   "metadata": {},
   "source": [
    "#### insert(i,x)\n",
    "\n",
    "Insert element x at position i"
   ]
  },
  {
   "cell_type": "code",
   "execution_count": 6,
   "id": "d5494223",
   "metadata": {},
   "outputs": [],
   "source": [
    "arr.insert(3,7)"
   ]
  },
  {
   "cell_type": "code",
   "execution_count": 7,
   "id": "47c42098",
   "metadata": {},
   "outputs": [
    {
     "name": "stdout",
     "output_type": "stream",
     "text": [
      "[1, 2, 3, 7, 9, 10, 11]\n"
     ]
    }
   ],
   "source": [
    "print(arr)"
   ]
  },
  {
   "cell_type": "markdown",
   "id": "1c6c04fe",
   "metadata": {},
   "source": [
    "#### remove(x)\n",
    "Removes the first occurrence of element x"
   ]
  },
  {
   "cell_type": "code",
   "execution_count": 8,
   "id": "6d6b0b2e",
   "metadata": {},
   "outputs": [],
   "source": [
    "arr.remove(10)"
   ]
  },
  {
   "cell_type": "code",
   "execution_count": 9,
   "id": "7cccbc29",
   "metadata": {},
   "outputs": [
    {
     "name": "stdout",
     "output_type": "stream",
     "text": [
      "[1, 2, 3, 7, 9, 11]\n"
     ]
    }
   ],
   "source": [
    "print(arr)"
   ]
  },
  {
   "cell_type": "markdown",
   "id": "e89636b2",
   "metadata": {},
   "source": [
    "#### pop()\n",
    "\n",
    "Removes the last element of a list. If an argument is passed, that index item is popped out."
   ]
  },
  {
   "cell_type": "code",
   "execution_count": 11,
   "id": "12cf07b6",
   "metadata": {},
   "outputs": [
    {
     "data": {
      "text/plain": [
       "11"
      ]
     },
     "execution_count": 11,
     "metadata": {},
     "output_type": "execute_result"
    }
   ],
   "source": [
    "arr.pop()"
   ]
  },
  {
   "cell_type": "code",
   "execution_count": 12,
   "id": "0083dd28",
   "metadata": {},
   "outputs": [
    {
     "name": "stdout",
     "output_type": "stream",
     "text": [
      "[1, 2, 3, 7, 9]\n"
     ]
    }
   ],
   "source": [
    "print(arr)"
   ]
  },
  {
   "cell_type": "markdown",
   "id": "08870b2d",
   "metadata": {},
   "source": [
    "#### index(x)\n",
    "\n",
    "Returns the first index of a value in the list. Throws an error if it's not found."
   ]
  },
  {
   "cell_type": "code",
   "execution_count": 13,
   "id": "3f71021d",
   "metadata": {},
   "outputs": [
    {
     "data": {
      "text/plain": [
       "4"
      ]
     },
     "execution_count": 13,
     "metadata": {},
     "output_type": "execute_result"
    }
   ],
   "source": [
    "arr.index(9)"
   ]
  },
  {
   "cell_type": "markdown",
   "id": "86a16dcc",
   "metadata": {},
   "source": [
    "#### count(x)\n",
    "\n",
    "Counts the number of occurrences of an element x"
   ]
  },
  {
   "cell_type": "code",
   "execution_count": 14,
   "id": "03e68e7d",
   "metadata": {},
   "outputs": [],
   "source": [
    "a = [2,1,1,1,3,5,4]"
   ]
  },
  {
   "cell_type": "code",
   "execution_count": 15,
   "id": "3a9e45f8",
   "metadata": {},
   "outputs": [
    {
     "data": {
      "text/plain": [
       "3"
      ]
     },
     "execution_count": 15,
     "metadata": {},
     "output_type": "execute_result"
    }
   ],
   "source": [
    "a.count(1)"
   ]
  },
  {
   "cell_type": "markdown",
   "id": "9a3a6f3f",
   "metadata": {},
   "source": [
    "#### sort()\n",
    "\n",
    "Sorts the list"
   ]
  },
  {
   "cell_type": "code",
   "execution_count": 16,
   "id": "63bb7c56",
   "metadata": {},
   "outputs": [],
   "source": [
    "a.sort()"
   ]
  },
  {
   "cell_type": "code",
   "execution_count": 17,
   "id": "7210db9e",
   "metadata": {},
   "outputs": [
    {
     "name": "stdout",
     "output_type": "stream",
     "text": [
      "[1, 1, 1, 2, 3, 4, 5]\n"
     ]
    }
   ],
   "source": [
    "print(a)"
   ]
  },
  {
   "cell_type": "code",
   "execution_count": 18,
   "id": "bfcc27cd",
   "metadata": {},
   "outputs": [],
   "source": [
    "a.sort(reverse=True)"
   ]
  },
  {
   "cell_type": "code",
   "execution_count": 19,
   "id": "32109671",
   "metadata": {},
   "outputs": [
    {
     "name": "stdout",
     "output_type": "stream",
     "text": [
      "[5, 4, 3, 2, 1, 1, 1]\n"
     ]
    }
   ],
   "source": [
    "print(a)"
   ]
  },
  {
   "cell_type": "markdown",
   "id": "1554e19d",
   "metadata": {},
   "source": [
    "#### reverse()\n",
    "\n",
    "Reverses the list"
   ]
  },
  {
   "cell_type": "code",
   "execution_count": 20,
   "id": "61e57e7e",
   "metadata": {},
   "outputs": [],
   "source": [
    "a.reverse()"
   ]
  },
  {
   "cell_type": "code",
   "execution_count": 21,
   "id": "303b20ba",
   "metadata": {},
   "outputs": [
    {
     "name": "stdout",
     "output_type": "stream",
     "text": [
      "[1, 1, 1, 2, 3, 4, 5]\n"
     ]
    }
   ],
   "source": [
    "print(a)"
   ]
  }
 ],
 "metadata": {
  "kernelspec": {
   "display_name": "Python 3 (ipykernel)",
   "language": "python",
   "name": "python3"
  },
  "language_info": {
   "codemirror_mode": {
    "name": "ipython",
    "version": 3
   },
   "file_extension": ".py",
   "mimetype": "text/x-python",
   "name": "python",
   "nbconvert_exporter": "python",
   "pygments_lexer": "ipython3",
   "version": "3.11.4"
  }
 },
 "nbformat": 4,
 "nbformat_minor": 5
}
